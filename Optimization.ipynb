{
 "cells": [
  {
   "cell_type": "code",
   "execution_count": 2,
   "metadata": {},
   "outputs": [],
   "source": [
    "# Defining the function\n",
    "\n",
    "def function(x):\n",
    "\n",
    "# Manually enter the function in the return statement\n",
    "\n",
    "    return 5*x**4 - 4*x**2 + 2*x -3"
   ]
  },
  {
   "cell_type": "code",
   "execution_count": 3,
   "metadata": {},
   "outputs": [],
   "source": [
    "import numpy as np\n",
    "\n",
    "initial_set = np.linspace(-100,100,21)"
   ]
  },
  {
   "cell_type": "code",
   "execution_count": 4,
   "metadata": {},
   "outputs": [
    {
     "name": "stdout",
     "output_type": "stream",
     "text": [
      "-3.0\n",
      "0.0\n"
     ]
    }
   ],
   "source": [
    "temp=10000000\n",
    "\n",
    "for i in range (len(initial_set)):\n",
    "\n",
    "    if (function(initial_set[i]))<=(temp):\n",
    "\n",
    "        temp = function(initial_set[i])\n",
    "\n",
    "        first = function(initial_set[i])\n",
    "        \n",
    "        j = initial_set[i] \n",
    "    \n",
    "    else:\n",
    "    \n",
    "        continue\n",
    "\n",
    "print(temp)\n",
    "\n",
    "print(j)"
   ]
  },
  {
   "cell_type": "code",
   "execution_count": 5,
   "metadata": {},
   "outputs": [
    {
     "name": "stdout",
     "output_type": "stream",
     "text": [
      "-4.6875\n",
      "-0.5\n"
     ]
    }
   ],
   "source": [
    "second_list= np.linspace(-10,10,41)\n",
    "\n",
    "for i in range (len(second_list)):\n",
    "\n",
    "    if (function(second_list[i]))<=(temp):\n",
    "\n",
    "        temp = function(second_list[i])\n",
    "\n",
    "        first = function(second_list[i])\n",
    "\n",
    "        k = i\n",
    "\n",
    "        j = second_list[i] \n",
    "\n",
    "    else:\n",
    "\n",
    "        continue\n",
    "\n",
    "print(temp)\n",
    "\n",
    "print(j)"
   ]
  },
  {
   "cell_type": "code",
   "execution_count": 6,
   "metadata": {},
   "outputs": [
    {
     "name": "stdout",
     "output_type": "stream",
     "text": [
      "-5.171091796875\n",
      "-0.725\n"
     ]
    }
   ],
   "source": [
    "third_list = np.linspace(-1,0,41)\n",
    "\n",
    "for i in range (len(third_list)):\n",
    "\n",
    "    if (function(third_list[i]))<=(temp):\n",
    "\n",
    "        temp = function(third_list[i])\n",
    "\n",
    "        first = function(third_list[i])\n",
    "\n",
    "        k = i\n",
    "\n",
    "        j = third_list[i] \n",
    "\n",
    "    else:\n",
    "\n",
    "        continue\n",
    "\n",
    "print(temp)\n",
    "\n",
    "print(j)"
   ]
  },
  {
   "cell_type": "code",
   "execution_count": 7,
   "metadata": {},
   "outputs": [
    {
     "name": "stdout",
     "output_type": "stream",
     "text": [
      "-5.171761952929687\n",
      "-0.7324999999999999\n"
     ]
    }
   ],
   "source": [
    "fourth_list = np.linspace(-0.75,-0.70,41)\n",
    "\n",
    "for i in range (len(fourth_list)):\n",
    "\n",
    "    if (function(fourth_list[i]))<=(temp):\n",
    "\n",
    "        temp = function(fourth_list[i])\n",
    "\n",
    "        first = function(fourth_list[i])\n",
    "\n",
    "        k = i\n",
    "\n",
    "        j = fourth_list[i] \n",
    "\n",
    "    else:\n",
    "\n",
    "        continue\n",
    "\n",
    "print(temp)\n",
    "\n",
    "print(j)"
   ]
  }
 ],
 "metadata": {
  "interpreter": {
   "hash": "916dbcbb3f70747c44a77c7bcd40155683ae19c65e1c03b4aa3499c5328201f1"
  },
  "kernelspec": {
   "display_name": "Python 3.8.10 64-bit",
   "name": "python3"
  },
  "language_info": {
   "codemirror_mode": {
    "name": "ipython",
    "version": 3
   },
   "file_extension": ".py",
   "mimetype": "text/x-python",
   "name": "python",
   "nbconvert_exporter": "python",
   "pygments_lexer": "ipython3",
   "version": "3.8.10"
  },
  "orig_nbformat": 4
 },
 "nbformat": 4,
 "nbformat_minor": 2
}
