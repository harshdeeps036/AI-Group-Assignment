{
 "cells": [
  {
   "cell_type": "code",
   "execution_count": 2,
   "id": "9a3098a8",
   "metadata": {},
   "outputs": [],
   "source": [
    "def SearchNegative(x, f1, g1, b, c):\n",
    "    \n",
    "    for i in range (1, 10001):\n",
    "        \n",
    "        temp = f1\n",
    "        \n",
    "        f1 = 0.0\n",
    "        \n",
    "        g1 = g1 - 0.01\n",
    "        \n",
    "        f1 = x*g1**2 + b*g1 + c\n",
    "        \n",
    "        if temp<f1:\n",
    "            \n",
    "            \n",
    "        else:\n",
    "            \n",
    "            continue\n",
    "        \n",
    "    return g1"
   ]
  },
  {
   "cell_type": "code",
   "execution_count": 3,
   "id": "bf82fbda",
   "metadata": {},
   "outputs": [],
   "source": [
    "def SearchPositive(x, f2, g2, b, c):\n",
    "    \n",
    "    \n",
    "    for i in range (1, 10001):\n",
    "        \n",
    "        temp = f2\n",
    "        \n",
    "        f2 = 0.0\n",
    "        \n",
    "        g2 = g2 + 0.01\n",
    "        \n",
    "        f2 = x*g2**2 + b*g2 + c\n",
    "        \n",
    "        if temp<f2:\n",
    "            \n",
    "            \n",
    "        else:\n",
    "            \n",
    "            continue\n",
    "        \n",
    "    return g2"
   ]
  },
  {
   "cell_type": "code",
   "execution_count": 4,
   "id": "aab9d164",
   "metadata": {},
   "outputs": [],
   "source": [
    "def SearchOne(a,b,c):\n",
    "    \n",
    "    guess= (-c)/b\n",
    "    \n",
    "    goal = 0.0\n",
    "    \n",
    "    for i in range(1,11):     \n",
    "        \n",
    "        x = i*0.1*a\n",
    "        \n",
    "        g1 = guess - 0.01\n",
    "        \n",
    "        f1 = x*g1**2 + b*g1 + c\n",
    "        \n",
    "        g2 = guess + 0.01\n",
    "        \n",
    "        f2 = x*g2**2 + b*g2 + c\n",
    "        \n",
    "        if abs(f1)<abs(f2):\n",
    "            \n",
    "            guess = SearchNegative(x, f1, g1, b, c)\n",
    "            \n",
    "        else:\n",
    "            \n",
    "            guess = SearchPositive(x, f2, g2, b, c)\n",
    "            \n",
    "    return guess"
   ]
  },
  {
   "cell_type": "code",
   "execution_count": 5,
   "id": "17a6d174",
   "metadata": {},
   "outputs": [
    {
     "name": "stdout",
     "output_type": "stream",
     "text": [
      "Enter the coefficient of x^21\n",
      "Enter the coefficient of x2\n",
      "Enter the constant term1\n",
      "one solution possible\n",
      "-0.9900000000000009\n"
     ]
    }
   ],
   "source": [
    "# Checking for number of solutions\n",
    "\n",
    "a = float(input('Enter the coefficient of x^2'))\n",
    "\n",
    "b = float(input('Enter the coefficient of x'))\n",
    "\n",
    "c = float(input('Enter the constant term'))\n",
    "\n",
    "det = b**2 - 4*a*c\n",
    "\n",
    "if det==0.0:\n",
    "    print('one solution possible')\n",
    "    solution = SearchOne(a,b,c)\n",
    "    print(solution)\n",
    "else:\n",
    "    print('two solutions')"
   ]
  },
  {
   "cell_type": "code",
   "execution_count": null,
   "id": "75c12e64",
   "metadata": {},
   "outputs": [],
   "source": []
  }
 ],
 "metadata": {
  "kernelspec": {
   "display_name": "Python 3",
   "language": "python",
   "name": "python3"
  },
  "language_info": {
   "codemirror_mode": {
    "name": "ipython",
    "version": 3
   },
   "file_extension": ".py",
   "mimetype": "text/x-python",
   "name": "python",
   "nbconvert_exporter": "python",
   "pygments_lexer": "ipython3",
   "version": "3.8.8"
  }
 },
 "nbformat": 4,
 "nbformat_minor": 5
}
