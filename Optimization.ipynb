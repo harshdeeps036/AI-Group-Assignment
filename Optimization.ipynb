{
 "cells": [
  {
   "cell_type": "code",
   "execution_count": 33,
   "metadata": {},
   "outputs": [],
   "source": [
    "# Defining the function\n",
    "\n",
    "def function(x):\n",
    "\n",
    "# Manually enter the function in the return statement\n",
    "\n",
    "    return 5*x**4 - 4*x**2 + 2*x -3"
   ]
  },
  {
   "cell_type": "code",
   "execution_count": 34,
   "metadata": {},
   "outputs": [],
   "source": [
    "import numpy as np\n",
    "\n",
    "initial_set = np.linspace(-100,100,21)"
   ]
  },
  {
   "cell_type": "code",
   "execution_count": 42,
   "metadata": {},
   "outputs": [
    {
     "name": "stdout",
     "output_type": "stream",
     "text": [
      "0.0\n",
      "15 1.0\n"
     ]
    }
   ],
   "source": [
    "temp=-10000000\n",
    "for i in range (len(initial_set)):\n",
    "\n",
    "    if (function(initial_set[i]))<=(temp):\n",
    "        temp = function(initial_set[i])\n",
    "        first = function(initial_set[i])\n",
    "        k = i\n",
    "        j = initial_set[i] \n",
    "    else:\n",
    "        continue\n",
    "print(first)\n",
    "print(k, j)"
   ]
  },
  {
   "cell_type": "code",
   "execution_count": 47,
   "metadata": {},
   "outputs": [],
   "source": [
    "second_list= np.linspace(-2,2,41)"
   ]
  },
  {
   "cell_type": "code",
   "execution_count": 54,
   "metadata": {},
   "outputs": [
    {
     "name": "stdout",
     "output_type": "stream",
     "text": [
      "-5.1594999999999995\n",
      "13 -0.7\n"
     ]
    }
   ],
   "source": [
    "temp=0\n",
    "for i in range (len(second_list)):\n",
    "\n",
    "    if (function(second_list[i]))<=(temp):\n",
    "        temp = function(second_list[i])\n",
    "        first = function(second_list[i])\n",
    "        k = i\n",
    "        j = second_list[i] \n",
    "    else:\n",
    "        continue\n",
    "print(first)\n",
    "print(k, j)"
   ]
  },
  {
   "cell_type": "code",
   "execution_count": 57,
   "metadata": {},
   "outputs": [],
   "source": [
    "third_list = np.linspace(-0.8, -0.6, 41)"
   ]
  },
  {
   "cell_type": "code",
   "execution_count": 60,
   "metadata": {},
   "outputs": [
    {
     "name": "stdout",
     "output_type": "stream",
     "text": [
      "-5.17168795\n",
      "14 -0.73\n"
     ]
    }
   ],
   "source": [
    "temp=-5.1594999999999995\n",
    "for i in range (len(third_list)):\n",
    "\n",
    "    if (function(third_list[i]))<=(temp):\n",
    "        temp = function(third_list[i])\n",
    "        first = function(third_list[i])\n",
    "        k = i\n",
    "        j = third_list[i] \n",
    "    else:\n",
    "        continue\n",
    "print(first)\n",
    "print(k, j)"
   ]
  },
  {
   "cell_type": "code",
   "execution_count": 61,
   "metadata": {},
   "outputs": [],
   "source": [
    "fourth_list = np.linspace(-0.74, -0.72, 41)"
   ]
  },
  {
   "cell_type": "code",
   "execution_count": 63,
   "metadata": {},
   "outputs": [
    {
     "name": "stdout",
     "output_type": "stream",
     "text": [
      "-5.171761952929687\n",
      "15 -0.7324999999999999\n"
     ]
    }
   ],
   "source": [
    "temp=-5.17168795\n",
    "for i in range (len(fourth_list)):\n",
    "\n",
    "    if (function(fourth_list[i]))<=(temp):\n",
    "        temp = function(fourth_list[i])\n",
    "        first = function(fourth_list[i])\n",
    "        k = i\n",
    "        j = fourth_list[i] \n",
    "    else:\n",
    "        continue\n",
    "print(first)\n",
    "print(k, j)"
   ]
  }
 ],
 "metadata": {
  "interpreter": {
   "hash": "916dbcbb3f70747c44a77c7bcd40155683ae19c65e1c03b4aa3499c5328201f1"
  },
  "kernelspec": {
   "display_name": "Python 3.8.10 64-bit",
   "name": "python3"
  },
  "language_info": {
   "codemirror_mode": {
    "name": "ipython",
    "version": 3
   },
   "file_extension": ".py",
   "mimetype": "text/x-python",
   "name": "python",
   "nbconvert_exporter": "python",
   "pygments_lexer": "ipython3",
   "version": "3.8.10"
  },
  "orig_nbformat": 4
 },
 "nbformat": 4,
 "nbformat_minor": 2
}
