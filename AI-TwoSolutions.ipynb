{
 "cells": [
  {
   "cell_type": "code",
   "execution_count": 1,
   "metadata": {},
   "outputs": [],
   "source": [
    "def function(a, b, c, x):\n",
    "\n",
    "    return a*x**2+b*x+c"
   ]
  },
  {
   "cell_type": "code",
   "execution_count": 92,
   "metadata": {},
   "outputs": [],
   "source": [
    "def SearchPositive(a, b, c, g1):\n",
    "\n",
    "    count=0\n",
    "\n",
    "    while abs(function(a, b, c, g1))>0.01:\n",
    "\n",
    "        g1 = g1 + 0.00001\n",
    "\n",
    "        count = count+1\n",
    "\n",
    "        if count>=10000000:\n",
    "\n",
    "            g1 = True\n",
    "\n",
    "            break\n",
    "    \n",
    "    return g1\n",
    "    \n",
    "    "
   ]
  },
  {
   "cell_type": "code",
   "execution_count": 93,
   "metadata": {},
   "outputs": [],
   "source": [
    "def SearchNegative(a, b, c, g1):\n",
    "\n",
    "    count=0\n",
    "\n",
    "    while abs(function(a, b, c, g1))>0.01:\n",
    "\n",
    "        g1 = g1 - 0.00001\n",
    "\n",
    "        count = count+1\n",
    "\n",
    "        if count>=10000000:\n",
    "\n",
    "            g1=True\n",
    "\n",
    "            break\n",
    "    \n",
    "    return g1\n",
    "    \n"
   ]
  },
  {
   "cell_type": "code",
   "execution_count": 99,
   "metadata": {},
   "outputs": [
    {
     "name": "stdout",
     "output_type": "stream",
     "text": [
      "The two solutions are:\n",
      "1.9882341414186886 -2.7660058585955025\n"
     ]
    }
   ],
   "source": [
    "# Main program\n",
    "a = float(input('Enter the coefficient of x^2'))\n",
    "b = float(input('Enter the coefficient of x'))\n",
    "c = float(input('Enter the constant term'))\n",
    "\n",
    "initial_guess = -b/c\n",
    "\n",
    "g1 = initial_guess+0.01\n",
    "g2 = initial_guess-0.01\n",
    "\n",
    "solution1 = SearchPositive(a, b, c, g1)\n",
    "\n",
    "solution2 = SearchNegative(a, b, c, g2)\n",
    "\n",
    "if solution1==True:\n",
    "\n",
    "    solution1 = SearchNegative(a, b, c, solution2-0.1)\n",
    "\n",
    "if solution2==True:\n",
    "\n",
    "    solution2 = SearchPositive(a,b,c,solution1+0.1)\n",
    "\n",
    "print('The two solutions are:')\n",
    "\n",
    "print(solution1, solution2)\n"
   ]
  },
  {
   "cell_type": "code",
   "execution_count": null,
   "metadata": {},
   "outputs": [],
   "source": []
  }
 ],
 "metadata": {
  "interpreter": {
   "hash": "916dbcbb3f70747c44a77c7bcd40155683ae19c65e1c03b4aa3499c5328201f1"
  },
  "kernelspec": {
   "display_name": "Python 3.8.10 64-bit",
   "name": "python3"
  },
  "language_info": {
   "codemirror_mode": {
    "name": "ipython",
    "version": 3
   },
   "file_extension": ".py",
   "mimetype": "text/x-python",
   "name": "python",
   "nbconvert_exporter": "python",
   "pygments_lexer": "ipython3",
   "version": "3.8.10"
  },
  "orig_nbformat": 4
 },
 "nbformat": 4,
 "nbformat_minor": 2
}
