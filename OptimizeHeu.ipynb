{
 "cells": [
  {
   "cell_type": "code",
   "execution_count": 11,
   "metadata": {},
   "outputs": [],
   "source": [
    "# Defining the function\n",
    "\n",
    "def function(x):\n",
    "\n",
    "# Manually enter the function in the return statement\n",
    "\n",
    "    return 5*x**4 - 4*x**2 + 2*x -3"
   ]
  },
  {
   "cell_type": "code",
   "execution_count": 12,
   "metadata": {},
   "outputs": [],
   "source": [
    "import numpy as np\n",
    "\n",
    "initial_set = np.linspace(-100,100,21)"
   ]
  },
  {
   "cell_type": "code",
   "execution_count": 13,
   "metadata": {},
   "outputs": [
    {
     "name": "stdout",
     "output_type": "stream",
     "text": [
      "-3.0\n",
      "0.0\n"
     ]
    }
   ],
   "source": [
    "temp=-1000\n",
    "\n",
    "dummy = 1000\n",
    "\n",
    "for i in range (len(initial_set)):\n",
    "\n",
    "    value = function(initial_set[i])\n",
    "    \n",
    "    heuristic = abs(temp)-abs(value)\n",
    "\n",
    "    if abs(heuristic)<=abs(dummy):\n",
    "        dummy = heuristic\n",
    "        minima = value\n",
    "        j = initial_set[i] \n",
    "    else:\n",
    "        continue\n",
    "print(minima)\n",
    "print(j)"
   ]
  },
  {
   "cell_type": "code",
   "execution_count": 17,
   "metadata": {},
   "outputs": [],
   "source": [
    "second_list= np.linspace(-10,10,41)"
   ]
  },
  {
   "cell_type": "code",
   "execution_count": 18,
   "metadata": {},
   "outputs": [
    {
     "name": "stdout",
     "output_type": "stream",
     "text": [
      "1205.0\n",
      "-4.0\n"
     ]
    }
   ],
   "source": [
    "for i in range (len(second_list)):\n",
    "\n",
    "    value = function(second_list[i])\n",
    "    \n",
    "    heuristic = abs(temp)-abs(value)\n",
    "\n",
    "    if abs(heuristic)<=abs(dummy):\n",
    "        dummy = heuristic\n",
    "        minima = value\n",
    "        j = second_list[i] \n",
    "    else:\n",
    "        continue\n",
    "print(minima)\n",
    "print(j)"
   ]
  },
  {
   "cell_type": "code",
   "execution_count": 19,
   "metadata": {},
   "outputs": [],
   "source": [
    "third_list = np.linspace(-5,-3,41)"
   ]
  },
  {
   "cell_type": "code",
   "execution_count": 20,
   "metadata": {},
   "outputs": [
    {
     "name": "stdout",
     "output_type": "stream",
     "text": [
      "974.2079999999997\n",
      "-3.8\n"
     ]
    }
   ],
   "source": [
    "for i in range (len(third_list)):\n",
    "\n",
    "    value = function(third_list[i])\n",
    "    \n",
    "    heuristic = abs(temp)-abs(value)\n",
    "\n",
    "    if abs(heuristic)<=abs(dummy):\n",
    "        dummy = heuristic\n",
    "        minima = value\n",
    "        j = third_list[i] \n",
    "    else:\n",
    "        continue\n",
    "print(minima)\n",
    "print(j)"
   ]
  },
  {
   "cell_type": "code",
   "execution_count": 15,
   "metadata": {},
   "outputs": [],
   "source": [
    "fourth_list = np.linspace(-0.75,-0.70,41)"
   ]
  },
  {
   "cell_type": "code",
   "execution_count": 16,
   "metadata": {},
   "outputs": [
    {
     "name": "stdout",
     "output_type": "stream",
     "text": [
      "-5.171761952929687\n",
      "-0.7324999999999999\n"
     ]
    }
   ],
   "source": [
    "for i in range (len(fourth_list)):\n",
    "\n",
    "    if (function(fourth_list[i]))<=(temp):\n",
    "        temp = function(fourth_list[i])\n",
    "        first = function(fourth_list[i])\n",
    "        k = i\n",
    "        j = fourth_list[i] \n",
    "    else:\n",
    "        continue\n",
    "print(temp)\n",
    "print(j)"
   ]
  }
 ],
 "metadata": {
  "interpreter": {
   "hash": "916dbcbb3f70747c44a77c7bcd40155683ae19c65e1c03b4aa3499c5328201f1"
  },
  "kernelspec": {
   "display_name": "Python 3.8.10 64-bit",
   "name": "python3"
  },
  "language_info": {
   "codemirror_mode": {
    "name": "ipython",
    "version": 3
   },
   "file_extension": ".py",
   "mimetype": "text/x-python",
   "name": "python",
   "nbconvert_exporter": "python",
   "pygments_lexer": "ipython3",
   "version": "3.8.10"
  },
  "orig_nbformat": 4
 },
 "nbformat": 4,
 "nbformat_minor": 2
}
