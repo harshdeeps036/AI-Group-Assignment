{
 "cells": [
  {
   "cell_type": "code",
   "execution_count": 29,
   "metadata": {},
   "outputs": [],
   "source": [
    "# Defining the function\n",
    "\n",
    "def function(x):\n",
    "\n",
    "# Manually enter the function in the return statement\n",
    "\n",
    "    return 5*x**4 - 4*x**2 + 2*x -3"
   ]
  },
  {
   "cell_type": "code",
   "execution_count": 30,
   "metadata": {},
   "outputs": [],
   "source": [
    "import numpy as np\n",
    "\n",
    "initial_set = np.linspace(-100,100,21)"
   ]
  },
  {
   "cell_type": "code",
   "execution_count": 32,
   "metadata": {},
   "outputs": [
    {
     "name": "stdout",
     "output_type": "stream",
     "text": [
      "-3.0\n",
      "0.0\n"
     ]
    }
   ],
   "source": [
    "temp=10000000\n",
    "\n",
    "y = []\n",
    "\n",
    "for i in range (len(initial_set)):\n",
    "\n",
    "    value = function(initial_set[i])\n",
    "\n",
    "    y.append(value)\n",
    "\n",
    "    if (value)<=(temp):\n",
    "\n",
    "        temp = value\n",
    "\n",
    "        j = initial_set[i] \n",
    "    \n",
    "    else:\n",
    "    \n",
    "        continue\n",
    "\n",
    "print(temp)\n",
    "\n",
    "print(j)"
   ]
  },
  {
   "cell_type": "code",
   "execution_count": 33,
   "metadata": {},
   "outputs": [
    {
     "data": {
      "text/plain": [
       "[<matplotlib.lines.Line2D at 0x7fc6e28f0370>]"
      ]
     },
     "execution_count": 33,
     "metadata": {},
     "output_type": "execute_result"
    },
    {
     "data": {
      "image/png": "[encoded data removed]",
      "text/plain": [
       "<Figure size 432x288 with 1 Axes>"
      ]
     },
     "metadata": {
      "needs_background": "light"
     },
     "output_type": "display_data"
    }
   ],
   "source": [
    "import matplotlib.pyplot as plt\n",
    "\n",
    "plt.plot(initial_set, y)"
   ]
  },
  {
   "cell_type": "code",
   "execution_count": 10,
   "metadata": {},
   "outputs": [
    {
     "data": {
      "text/plain": [
       "array([-100.,  -90.,  -80.,  -70.,  -60.,  -50.,  -40.,  -30.,  -20.,\n",
       "        -10.,    0.,   10.,   20.,   30.,   40.,   50.,   60.,   70.,\n",
       "         80.,   90.,  100.])"
      ]
     },
     "execution_count": 10,
     "metadata": {},
     "output_type": "execute_result"
    }
   ],
   "source": [
    "initial_set"
   ]
  },
  {
   "cell_type": "code",
   "execution_count": 34,
   "metadata": {},
   "outputs": [
    {
     "name": "stdout",
     "output_type": "stream",
     "text": [
      "-4.6875\n",
      "-0.5\n"
     ]
    }
   ],
   "source": [
    "second_list= np.linspace(-10,10,41)\n",
    "\n",
    "y= []\n",
    "\n",
    "for i in range (len(second_list)):\n",
    "\n",
    "    value = function(second_list[i])\n",
    "\n",
    "    y.append(value)\n",
    "\n",
    "    if (value)<=(temp):\n",
    "\n",
    "        temp = value\n",
    "\n",
    "        j = second_list[i] \n",
    "\n",
    "    else:\n",
    "\n",
    "        continue\n",
    "\n",
    "print(temp)\n",
    "\n",
    "print(j)"
   ]
  },
  {
   "cell_type": "code",
   "execution_count": 17,
   "metadata": {},
   "outputs": [
    {
     "data": {
      "text/plain": [
       "[<matplotlib.lines.Line2D at 0x7fc6e2cb3c70>]"
      ]
     },
     "execution_count": 17,
     "metadata": {},
     "output_type": "execute_result"
    },
    {
     "data": {
      "image/png": "[encoded data removed]",
      "text/plain": [
       "<Figure size 432x288 with 1 Axes>"
      ]
     },
     "metadata": {
      "needs_background": "light"
     },
     "output_type": "display_data"
    }
   ],
   "source": [
    "plt.plot(second_list, y)"
   ]
  },
  {
   "cell_type": "code",
   "execution_count": 11,
   "metadata": {},
   "outputs": [
    {
     "data": {
      "text/plain": [
       "array([-10. ,  -9.5,  -9. ,  -8.5,  -8. ,  -7.5,  -7. ,  -6.5,  -6. ,\n",
       "        -5.5,  -5. ,  -4.5,  -4. ,  -3.5,  -3. ,  -2.5,  -2. ,  -1.5,\n",
       "        -1. ,  -0.5,   0. ,   0.5,   1. ,   1.5,   2. ,   2.5,   3. ,\n",
       "         3.5,   4. ,   4.5,   5. ,   5.5,   6. ,   6.5,   7. ,   7.5,\n",
       "         8. ,   8.5,   9. ,   9.5,  10. ])"
      ]
     },
     "execution_count": 11,
     "metadata": {},
     "output_type": "execute_result"
    }
   ],
   "source": [
    "second_list"
   ]
  },
  {
   "cell_type": "code",
   "execution_count": 35,
   "metadata": {},
   "outputs": [
    {
     "name": "stdout",
     "output_type": "stream",
     "text": [
      "-5.171091796875\n",
      "-0.725\n"
     ]
    }
   ],
   "source": [
    "third_list = np.linspace(-1,0,41)\n",
    "\n",
    "y=[]\n",
    "\n",
    "for i in range (len(third_list)):\n",
    "\n",
    "    value = function(third_list[i])\n",
    "\n",
    "    y.append(value)\n",
    "\n",
    "    if (value)<=(temp):\n",
    "\n",
    "        temp = value\n",
    "\n",
    "        j = third_list[i] \n",
    "\n",
    "    else:\n",
    "\n",
    "        continue\n",
    "\n",
    "print(temp)\n",
    "\n",
    "print(j)"
   ]
  },
  {
   "cell_type": "code",
   "execution_count": 21,
   "metadata": {},
   "outputs": [
    {
     "data": {
      "text/plain": [
       "[<matplotlib.lines.Line2D at 0x7fc6e2b95040>]"
      ]
     },
     "execution_count": 21,
     "metadata": {},
     "output_type": "execute_result"
    },
    {
     "data": {
      "image/png": "[encoded data removed]",
      "text/plain": [
       "<Figure size 432x288 with 1 Axes>"
      ]
     },
     "metadata": {
      "needs_background": "light"
     },
     "output_type": "display_data"
    }
   ],
   "source": [
    "plt.plot(third_list, y)"
   ]
  },
  {
   "cell_type": "code",
   "execution_count": 12,
   "metadata": {},
   "outputs": [
    {
     "data": {
      "text/plain": [
       "array([-1.   , -0.975, -0.95 , -0.925, -0.9  , -0.875, -0.85 , -0.825,\n",
       "       -0.8  , -0.775, -0.75 , -0.725, -0.7  , -0.675, -0.65 , -0.625,\n",
       "       -0.6  , -0.575, -0.55 , -0.525, -0.5  , -0.475, -0.45 , -0.425,\n",
       "       -0.4  , -0.375, -0.35 , -0.325, -0.3  , -0.275, -0.25 , -0.225,\n",
       "       -0.2  , -0.175, -0.15 , -0.125, -0.1  , -0.075, -0.05 , -0.025,\n",
       "        0.   ])"
      ]
     },
     "execution_count": 12,
     "metadata": {},
     "output_type": "execute_result"
    }
   ],
   "source": [
    "third_list"
   ]
  },
  {
   "cell_type": "code",
   "execution_count": 36,
   "metadata": {},
   "outputs": [
    {
     "name": "stdout",
     "output_type": "stream",
     "text": [
      "-5.171761952929687\n",
      "-0.7324999999999999\n"
     ]
    }
   ],
   "source": [
    "fourth_list = np.linspace(-0.75,-0.70,41)\n",
    "\n",
    "y=[]\n",
    "\n",
    "for i in range (len(fourth_list)):\n",
    "\n",
    "    value = function(fourth_list[i])\n",
    "\n",
    "    y.append(value)\n",
    "\n",
    "    if (value)<=(temp):\n",
    "\n",
    "        temp = value\n",
    "\n",
    "        j = fourth_list[i] \n",
    "\n",
    "    else:\n",
    "\n",
    "        continue\n",
    "\n",
    "print(temp)\n",
    "\n",
    "print(j)"
   ]
  },
  {
   "cell_type": "code",
   "execution_count": 25,
   "metadata": {},
   "outputs": [
    {
     "data": {
      "text/plain": [
       "[<matplotlib.lines.Line2D at 0x7fc6e29a0a00>]"
      ]
     },
     "execution_count": 25,
     "metadata": {},
     "output_type": "execute_result"
    },
    {
     "data": {
      "image/png": "[encoded data removed]",
      "text/plain": [
       "<Figure size 432x288 with 1 Axes>"
      ]
     },
     "metadata": {
      "needs_background": "light"
     },
     "output_type": "display_data"
    }
   ],
   "source": [
    "plt.plot(fourth_list, y)"
   ]
  },
  {
   "cell_type": "code",
   "execution_count": 26,
   "metadata": {},
   "outputs": [
    {
     "data": {
      "text/plain": [
       "array([-0.75   , -0.74875, -0.7475 , -0.74625, -0.745  , -0.74375,\n",
       "       -0.7425 , -0.74125, -0.74   , -0.73875, -0.7375 , -0.73625,\n",
       "       -0.735  , -0.73375, -0.7325 , -0.73125, -0.73   , -0.72875,\n",
       "       -0.7275 , -0.72625, -0.725  , -0.72375, -0.7225 , -0.72125,\n",
       "       -0.72   , -0.71875, -0.7175 , -0.71625, -0.715  , -0.71375,\n",
       "       -0.7125 , -0.71125, -0.71   , -0.70875, -0.7075 , -0.70625,\n",
       "       -0.705  , -0.70375, -0.7025 , -0.70125, -0.7    ])"
      ]
     },
     "execution_count": 26,
     "metadata": {},
     "output_type": "execute_result"
    }
   ],
   "source": [
    "fourth_list"
   ]
  },
  {
   "cell_type": "code",
   "execution_count": 37,
   "metadata": {},
   "outputs": [
    {
     "name": "stdout",
     "output_type": "stream",
     "text": [
      "-5.171761952929687\n",
      "-0.7324999999999999\n"
     ]
    }
   ],
   "source": [
    "fifth_list = np.linspace(-0.73375,-0.73125,41)\n",
    "\n",
    "y=[]\n",
    "\n",
    "for i in range (len(fifth_list)):\n",
    "\n",
    "    value = function(fifth_list[i])\n",
    "\n",
    "    y.append(value)\n",
    "\n",
    "    if (value)<=(temp):\n",
    "\n",
    "        temp = value\n",
    "\n",
    "        j = fifth_list[i] \n",
    "\n",
    "    else:\n",
    "\n",
    "        continue\n",
    "\n",
    "print(temp)\n",
    "\n",
    "print(j)"
   ]
  },
  {
   "cell_type": "code",
   "execution_count": 28,
   "metadata": {},
   "outputs": [
    {
     "data": {
      "text/plain": [
       "[<matplotlib.lines.Line2D at 0x7fc6e29153a0>]"
      ]
     },
     "execution_count": 28,
     "metadata": {},
     "output_type": "execute_result"
    },
    {
     "data": {
      "image/png": "[encoded data removed]",
      "text/plain": [
       "<Figure size 432x288 with 1 Axes>"
      ]
     },
     "metadata": {
      "needs_background": "light"
     },
     "output_type": "display_data"
    }
   ],
   "source": [
    "plt.plot(fifth_list, y)"
   ]
  }
 ],
 "metadata": {
  "interpreter": {
   "hash": "916dbcbb3f70747c44a77c7bcd40155683ae19c65e1c03b4aa3499c5328201f1"
  },
  "kernelspec": {
   "display_name": "Python 3.8.10 64-bit",
   "name": "python3"
  },
  "language_info": {
   "codemirror_mode": {
    "name": "ipython",
    "version": 3
   },
   "file_extension": ".py",
   "mimetype": "text/x-python",
   "name": "python",
   "nbconvert_exporter": "python",
   "pygments_lexer": "ipython3",
   "version": "3.8.10"
  },
  "orig_nbformat": 4
 },
 "nbformat": 4,
 "nbformat_minor": 2
}
